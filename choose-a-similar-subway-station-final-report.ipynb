{
    "cells": [
        {
            "cell_type": "markdown",
            "metadata": {},
            "source": "# Choose a similar subway station when moving in BeiJing\n### Li Huibin\n### 2021-01-20"
        },
        {
            "cell_type": "markdown",
            "metadata": {
                "collapsed": true
            },
            "source": "![](http://5b0988e595225.cdn.sohucs.com/images/20181104/4785efb1a1484db28f3f697e0fbf9d0c.jpeg)"
        },
        {
            "cell_type": "markdown",
            "metadata": {},
            "source": "# 1. Introduction\nBecause of the change of work location if you living in **Beijing, China**, we need to move frequently about once every two years.\n\nWhen we move, we have to choose a similar community or living environment to reduce the difference caused by moving. \nTherefore, if we use the poly in a similar way, it would be a very good idea to aggregate business information around the subway station and find a new subway station as a moving location.\n\nThe purpose is to help working people choose their ideal living environment to reduce the incompatibility caused by moving or traveling.\n\nIt can also help merchants choose the best place to run a restaurant, hotel or other entertainment venue."
        },
        {
            "cell_type": "markdown",
            "metadata": {},
            "source": "# 2. Data Description\n![](https://i.imgur.com/tM5uPfn.png)\nGeographical data(latitude and longitude) of neighborhoods in Beijing\n![](https://i.imgur.com/4cdg5np.png)"
        },
        {
            "cell_type": "markdown",
            "metadata": {},
            "source": "# 3. Methodology\nCluster the neighborhoods by using k-mean with the venue data"
        },
        {
            "cell_type": "markdown",
            "metadata": {},
            "source": "# 4. Result"
        },
        {
            "cell_type": "markdown",
            "metadata": {},
            "source": "![](https://i.imgur.com/qCoFZfj.png)"
        },
        {
            "cell_type": "markdown",
            "metadata": {},
            "source": "## 4.1 Cluster 0\n### There are many hotels and supermarkets here, it looks like a residential area\n![](https://i.imgur.com/vH7ylpl.png)"
        },
        {
            "cell_type": "markdown",
            "metadata": {},
            "source": "## 4.1 Cluster 1\n### There are many restaurants here, maybe a business district\n![](https://i.imgur.com/ARRv87c.png)"
        },
        {
            "cell_type": "markdown",
            "metadata": {},
            "source": "## 4.1 Cluster 2\n### There is more Chinese food here\n![](https://i.imgur.com/YSYzGkU.png)"
        },
        {
            "cell_type": "markdown",
            "metadata": {},
            "source": "## 4.1 Cluster 3\n### There are a lot of things about art here, but the amount of data is a little less, not sure\n![](https://i.imgur.com/GSICwi3.png)"
        },
        {
            "cell_type": "markdown",
            "metadata": {},
            "source": "## 4.1 Cluster 4\n### Maybe there are no restaurants or hotels around them so they belong to one category\n![](https://i.imgur.com/y7G5cKR.png)"
        },
        {
            "cell_type": "code",
            "execution_count": null,
            "metadata": {},
            "outputs": [],
            "source": "# 5. Conclusion\nBy using k-means, I was able to cluster the neighborhoods of the two regions and analyze it. My personal comment about the result, judging by the number of venues in Seoul, I have to say data provided from Foursquare is insufficient. Could've been better if I used other API that has enough data about venues in Korea."
        }
    ],
    "metadata": {
        "kernelspec": {
            "display_name": "Python 3.7",
            "language": "python",
            "name": "python3"
        },
        "language_info": {
            "codemirror_mode": {
                "name": "ipython",
                "version": 3
            },
            "file_extension": ".py",
            "mimetype": "text/x-python",
            "name": "python",
            "nbconvert_exporter": "python",
            "pygments_lexer": "ipython3",
            "version": "3.7.9"
        }
    },
    "nbformat": 4,
    "nbformat_minor": 1
}